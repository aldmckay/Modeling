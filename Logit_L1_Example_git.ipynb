{
 "cells": [
  {
   "cell_type": "code",
   "execution_count": 1,
   "metadata": {},
   "outputs": [],
   "source": [
    "# import numpy as np\n",
    "# from PIL import Image\n",
    "# import time\n",
    "# # import functools\n",
    "\n",
    "# import os\n",
    "# import pandas as pd\n",
    "\n",
    "# from sklearn.model_selection import train_test_split\n",
    "# from sklearn.model_selection import GridSearchCV\n",
    "\n",
    "# from sklearn.feature_selection import SelectKBest\n",
    "\n",
    "# from sklearn.metrics import mean_squared_error\n",
    "\n",
    "# from sklearn.ensemble import GradientBoostingRegressor\n",
    "# from sklearn.ensemble import RandomForestClassifier\n",
    "# from sklearn.ensemble.partial_dependence import plot_partial_dependence\n",
    "# from sklearn.ensemble.partial_dependence import partial_dependence\n",
    "\n",
    "# from sklearn import svm\n",
    "# from sklearn import tree\n",
    "# from sklearn.naive_bayes import GaussianNB\n",
    "# from sklearn.linear_model import LogisticRegression\n",
    "# from sklearn.svm import SVC\n",
    "\n",
    "# from sklearn.preprocessing import StandardScaler\n",
    "# from sklearn.preprocessing import PolynomialFeatures\n",
    "# from sklearn.decomposition import PCA\n",
    "# from sklearn.pipeline import Pipeline\n",
    "# from sklearn.pipeline import make_pipeline\n",
    "# from sklearn.pipeline import FeatureUnion\n",
    "# from sklearn.externals import joblib\n",
    "\n",
    "# from sklearn.preprocessing import LabelBinarizer\n",
    "# from sklearn.preprocessing import MultiLabelBinarizer\n",
    "\n",
    "\n",
    "\n",
    "# import xgboost as xgb\n",
    "\n"
   ]
  },
  {
   "cell_type": "code",
   "execution_count": 2,
   "metadata": {},
   "outputs": [
    {
     "data": {
      "text/html": [
       "<script type=\"text/javascript\">window.PlotlyConfig = {MathJaxConfig: 'local'};</script><script type=\"text/javascript\">if (window.MathJax) {MathJax.Hub.Config({SVG: {font: \"STIX-Web\"}});}</script><script>requirejs.config({paths: { 'plotly': ['https://cdn.plot.ly/plotly-latest.min']},});if(!window._Plotly) {require(['plotly'],function(plotly) {window._Plotly=plotly;});}</script>"
      ],
      "text/vnd.plotly.v1+html": [
       "<script type=\"text/javascript\">window.PlotlyConfig = {MathJaxConfig: 'local'};</script><script type=\"text/javascript\">if (window.MathJax) {MathJax.Hub.Config({SVG: {font: \"STIX-Web\"}});}</script><script>requirejs.config({paths: { 'plotly': ['https://cdn.plot.ly/plotly-latest.min']},});if(!window._Plotly) {require(['plotly'],function(plotly) {window._Plotly=plotly;});}</script>"
      ]
     },
     "metadata": {},
     "output_type": "display_data"
    }
   ],
   "source": [
    "from PIL import Image\n",
    "import time\n",
    "import functools\n",
    "import os\n",
    "import pandas as pd\n",
    "import numpy as np\n",
    "\n",
    "from sklearn.linear_model import LogisticRegression\n",
    "from sklearn import datasets\n",
    "from sklearn.preprocessing import StandardScaler\n",
    "\n",
    "import matplotlib.pyplot as plt\n",
    "\n",
    "import plotly\n",
    "import plotly.graph_objs as go\n",
    "import plotly.figure_factory as ff\n",
    "\n",
    "plotly.offline.init_notebook_mode(connected=True)"
   ]
  },
  {
   "cell_type": "code",
   "execution_count": 256,
   "metadata": {},
   "outputs": [],
   "source": [
    "#os.chdir(dir)\n",
    "#os.listdir()"
   ]
  },
  {
   "cell_type": "code",
   "execution_count": 206,
   "metadata": {},
   "outputs": [
    {
     "name": "stdout",
     "output_type": "stream",
     "text": [
      "(30000, 25)\n"
     ]
    }
   ],
   "source": [
    "df = pd.read_csv(\"Credit_Card.csv\")\n",
    "\n",
    "print(df.shape)"
   ]
  },
  {
   "cell_type": "code",
   "execution_count": 208,
   "metadata": {},
   "outputs": [
    {
     "data": {
      "text/plain": [
       "Index(['ID', 'LIMIT_BAL', 'SEX', 'EDUCATION', 'MARRIAGE', 'AGE', 'PAY_0',\n",
       "       'PAY_2', 'PAY_3', 'PAY_4', 'PAY_5', 'PAY_6', 'BILL_AMT1', 'BILL_AMT2',\n",
       "       'BILL_AMT3', 'BILL_AMT4', 'BILL_AMT5', 'BILL_AMT6', 'PAY_AMT1',\n",
       "       'PAY_AMT2', 'PAY_AMT3', 'PAY_AMT4', 'PAY_AMT5', 'PAY_AMT6',\n",
       "       'default.payment.next.month', 'rand_var1', 'rand_var2', 'rand_var3',\n",
       "       'rand_var4', 'rand_var5', 'rand_var6', 'rand_var11', 'rand_var12',\n",
       "       'rand_var13', 'rand_var14', 'rand_var15', 'rand_var16', 'rand_var21',\n",
       "       'rand_var22', 'rand_var23', 'rand_var24', 'rand_var25', 'rand_var26',\n",
       "       'rand_var31', 'rand_var32', 'rand_var33', 'rand_var34', 'rand_var35',\n",
       "       'rand_var36'],\n",
       "      dtype='object')"
      ]
     },
     "execution_count": 208,
     "metadata": {},
     "output_type": "execute_result"
    }
   ],
   "source": [
    "rand_vars = ['rand_var1','rand_var2','rand_var3','rand_var4','rand_var5','rand_var6',\n",
    "            'rand_var11','rand_var12','rand_var13','rand_var14','rand_var15','rand_var16',\n",
    "            'rand_var21','rand_var22','rand_var23','rand_var24','rand_var25','rand_var26',\n",
    "            'rand_var31','rand_var32','rand_var33','rand_var34','rand_var35','rand_var36']\n",
    "\n",
    "for var in rand_vars:\n",
    "    df[var] = np.random.randint(1, 45, df.shape[0])\n",
    "    \n",
    "df.columns"
   ]
  },
  {
   "cell_type": "code",
   "execution_count": 209,
   "metadata": {},
   "outputs": [],
   "source": [
    "from sklearn.model_selection import train_test_split\n",
    "\n",
    "# Modeling\n",
    "outcome_var = 'default.payment.next.month'\n",
    "#outcome_var = 'species'\n",
    "X_full = df.drop([outcome_var],axis =1)\n",
    "y_full = df[outcome_var]\n",
    "\n",
    "(X_train, X_test, y_train, y_test) = train_test_split(X_full, y_full, test_size=0.20, random_state=42)"
   ]
  },
  {
   "cell_type": "code",
   "execution_count": 220,
   "metadata": {},
   "outputs": [],
   "source": [
    "from imblearn.under_sampling import RandomUnderSampler\n",
    "\n",
    "rus = RandomUnderSampler(return_indices=True)\n",
    "X_un, y, id_rus = rus.fit_sample(X_train, y_train)\n",
    "\n",
    "# X_un = X_train.copy()\n",
    "# y = y_train.copy()\n",
    "\n",
    "# print('Removed indexes:', id_rus)"
   ]
  },
  {
   "cell_type": "code",
   "execution_count": 221,
   "metadata": {},
   "outputs": [],
   "source": [
    "from sklearn.preprocessing import RobustScaler\n",
    "rs = RobustScaler(quantile_range=(25, 75))\n",
    "\n",
    "X = X_un.copy()\n",
    "X = rs.fit_transform(X)\n",
    "\n",
    "ss = StandardScaler()\n",
    "X = ss.fit_transform(X)\n"
   ]
  },
  {
   "cell_type": "code",
   "execution_count": 247,
   "metadata": {},
   "outputs": [
    {
     "name": "stdout",
     "output_type": "stream",
     "text": [
      "R-squared:  0.13299238128485857\n"
     ]
    }
   ],
   "source": [
    "from sklearn.linear_model import Lasso\n",
    "from sklearn.preprocessing import StandardScaler\n",
    "  \n",
    "names = list(X_full.columns)\n",
    "  \n",
    "lasso_model = Lasso(alpha=.02)\n",
    "lasso = lasso_model.fit(X, y)\n",
    "\n",
    "print(\"R-squared: \",lasso.score(X, y))"
   ]
  },
  {
   "cell_type": "code",
   "execution_count": 248,
   "metadata": {},
   "outputs": [
    {
     "data": {
      "text/html": [
       "<div>\n",
       "<style scoped>\n",
       "    .dataframe tbody tr th:only-of-type {\n",
       "        vertical-align: middle;\n",
       "    }\n",
       "\n",
       "    .dataframe tbody tr th {\n",
       "        vertical-align: top;\n",
       "    }\n",
       "\n",
       "    .dataframe thead th {\n",
       "        text-align: right;\n",
       "    }\n",
       "</style>\n",
       "<table border=\"1\" class=\"dataframe\">\n",
       "  <thead>\n",
       "    <tr style=\"text-align: right;\">\n",
       "      <th></th>\n",
       "      <th>Coef</th>\n",
       "      <th>Feature</th>\n",
       "    </tr>\n",
       "  </thead>\n",
       "  <tbody>\n",
       "    <tr>\n",
       "      <th>1</th>\n",
       "      <td>-0.024125</td>\n",
       "      <td>LIMIT_BAL</td>\n",
       "    </tr>\n",
       "    <tr>\n",
       "      <th>5</th>\n",
       "      <td>0.002206</td>\n",
       "      <td>AGE</td>\n",
       "    </tr>\n",
       "    <tr>\n",
       "      <th>6</th>\n",
       "      <td>0.130300</td>\n",
       "      <td>PAY_0</td>\n",
       "    </tr>\n",
       "    <tr>\n",
       "      <th>7</th>\n",
       "      <td>0.013793</td>\n",
       "      <td>PAY_2</td>\n",
       "    </tr>\n",
       "    <tr>\n",
       "      <th>8</th>\n",
       "      <td>0.013758</td>\n",
       "      <td>PAY_3</td>\n",
       "    </tr>\n",
       "    <tr>\n",
       "      <th>12</th>\n",
       "      <td>-0.016455</td>\n",
       "      <td>BILL_AMT1</td>\n",
       "    </tr>\n",
       "    <tr>\n",
       "      <th>18</th>\n",
       "      <td>-0.007438</td>\n",
       "      <td>PAY_AMT1</td>\n",
       "    </tr>\n",
       "  </tbody>\n",
       "</table>\n",
       "</div>"
      ],
      "text/plain": [
       "        Coef    Feature\n",
       "1  -0.024125  LIMIT_BAL\n",
       "5   0.002206        AGE\n",
       "6   0.130300      PAY_0\n",
       "7   0.013793      PAY_2\n",
       "8   0.013758      PAY_3\n",
       "12 -0.016455  BILL_AMT1\n",
       "18 -0.007438   PAY_AMT1"
      ]
     },
     "execution_count": 248,
     "metadata": {},
     "output_type": "execute_result"
    }
   ],
   "source": [
    "model_coef = pd.DataFrame(lasso.coef_, columns = ['Coef'])\n",
    "model_coef['Feature'] = names\n",
    "model_coef.reindex(model_coef.Coef.abs().sort_values(ascending=False).index)\n",
    "\n",
    "model_coef_sig = model_coef[model_coef.Coef != 0]\n",
    "model_coef_sig\n"
   ]
  },
  {
   "cell_type": "code",
   "execution_count": 249,
   "metadata": {},
   "outputs": [
    {
     "data": {
      "text/plain": [
       "<matplotlib.axes._subplots.AxesSubplot at 0x123088b00>"
      ]
     },
     "execution_count": 249,
     "metadata": {},
     "output_type": "execute_result"
    },
    {
     "data": {
      "image/png": "[encoded data removed]",
      "text/plain": [
       "<Figure size 432x288 with 1 Axes>"
      ]
     },
     "metadata": {},
     "output_type": "display_data"
    }
   ],
   "source": [
    "#checking the magnitude of coefficients\n",
    "\n",
    "model_coef_sig.plot(kind='bar', title='Modal Coefficients')"
   ]
  },
  {
   "cell_type": "code",
   "execution_count": 251,
   "metadata": {},
   "outputs": [
    {
     "data": {
      "text/plain": [
       "-0.2454322243081699"
      ]
     },
     "execution_count": 251,
     "metadata": {},
     "output_type": "execute_result"
    }
   ],
   "source": [
    "X_test_std = rs.transform(X_test)\n",
    "X_test_std = ss.transform(X_test_std)\n",
    "\n",
    "lasso.score(X_test_std, y_test)"
   ]
  },
  {
   "cell_type": "code",
   "execution_count": 252,
   "metadata": {},
   "outputs": [
    {
     "data": {
      "text/html": [
       "<div>\n",
       "<style scoped>\n",
       "    .dataframe tbody tr th:only-of-type {\n",
       "        vertical-align: middle;\n",
       "    }\n",
       "\n",
       "    .dataframe tbody tr th {\n",
       "        vertical-align: top;\n",
       "    }\n",
       "\n",
       "    .dataframe thead th {\n",
       "        text-align: right;\n",
       "    }\n",
       "</style>\n",
       "<table border=\"1\" class=\"dataframe\">\n",
       "  <thead>\n",
       "    <tr style=\"text-align: right;\">\n",
       "      <th>col_0</th>\n",
       "      <th>False</th>\n",
       "      <th>True</th>\n",
       "    </tr>\n",
       "    <tr>\n",
       "      <th>default.payment.next.month</th>\n",
       "      <th></th>\n",
       "      <th></th>\n",
       "    </tr>\n",
       "  </thead>\n",
       "  <tbody>\n",
       "    <tr>\n",
       "      <th>0</th>\n",
       "      <td>3513</td>\n",
       "      <td>1174</td>\n",
       "    </tr>\n",
       "    <tr>\n",
       "      <th>1</th>\n",
       "      <td>509</td>\n",
       "      <td>804</td>\n",
       "    </tr>\n",
       "  </tbody>\n",
       "</table>\n",
       "</div>"
      ],
      "text/plain": [
       "col_0                       False  True \n",
       "default.payment.next.month              \n",
       "0                            3513   1174\n",
       "1                             509    804"
      ]
     },
     "execution_count": 252,
     "metadata": {},
     "output_type": "execute_result"
    }
   ],
   "source": [
    "y_pred = lasso.predict(X_test_std)\n",
    "\n",
    "pd.crosstab(y_test, y_pred > .5)"
   ]
  },
  {
   "cell_type": "code",
   "execution_count": 253,
   "metadata": {},
   "outputs": [
    {
     "name": "stdout",
     "output_type": "stream",
     "text": [
      "0.0  Threshold Accuracy:  0.21883333333333332\n",
      "0.05  Threshold Accuracy:  0.21883333333333332\n",
      "0.1  Threshold Accuracy:  0.219\n",
      "0.15000000000000002  Threshold Accuracy:  0.2195\n",
      "0.2  Threshold Accuracy:  0.231\n",
      "0.25  Threshold Accuracy:  0.2775\n",
      "0.30000000000000004  Threshold Accuracy:  0.2976666666666667\n",
      "0.35000000000000003  Threshold Accuracy:  0.34933333333333333\n",
      "0.4  Threshold Accuracy:  0.43666666666666665\n",
      "0.45  Threshold Accuracy:  0.5316666666666666\n",
      "0.5  Threshold Accuracy:  0.7195\n",
      "0.55  Threshold Accuracy:  0.7931666666666667\n",
      "0.6000000000000001  Threshold Accuracy:  0.8116666666666666\n",
      "0.65  Threshold Accuracy:  0.8185\n",
      "0.7000000000000001  Threshold Accuracy:  0.8086666666666666\n",
      "0.75  Threshold Accuracy:  0.7881666666666667\n",
      "0.8  Threshold Accuracy:  0.7853333333333333\n",
      "0.8500000000000001  Threshold Accuracy:  0.7826666666666666\n",
      "0.9  Threshold Accuracy:  0.7808333333333334\n",
      "0.9500000000000001  Threshold Accuracy:  0.7808333333333334\n",
      "1.0  Threshold Accuracy:  0.7811666666666667\n"
     ]
    }
   ],
   "source": [
    "import numpy as np\n",
    "from sklearn.metrics import accuracy_score\n",
    "\n",
    "t = .5\n",
    "dec_range = np.linspace(0,1,21)\n",
    "\n",
    "\n",
    "for i in dec_range:\n",
    "    print(i, \" Threshold Accuracy: \",accuracy_score(y_test, y_pred > i))\n",
    "#accuracy_score(y_test, y_pred > t, normalize=False)"
   ]
  },
  {
   "cell_type": "code",
   "execution_count": 255,
   "metadata": {},
   "outputs": [
    {
     "data": {
      "text/html": [
       "<div>\n",
       "<style scoped>\n",
       "    .dataframe tbody tr th:only-of-type {\n",
       "        vertical-align: middle;\n",
       "    }\n",
       "\n",
       "    .dataframe tbody tr th {\n",
       "        vertical-align: top;\n",
       "    }\n",
       "\n",
       "    .dataframe thead th {\n",
       "        text-align: right;\n",
       "    }\n",
       "</style>\n",
       "<table border=\"1\" class=\"dataframe\">\n",
       "  <thead>\n",
       "    <tr style=\"text-align: right;\">\n",
       "      <th>col_0</th>\n",
       "      <th>False</th>\n",
       "      <th>True</th>\n",
       "    </tr>\n",
       "    <tr>\n",
       "      <th>default.payment.next.month</th>\n",
       "      <th></th>\n",
       "      <th></th>\n",
       "    </tr>\n",
       "  </thead>\n",
       "  <tbody>\n",
       "    <tr>\n",
       "      <th>0</th>\n",
       "      <td>4129</td>\n",
       "      <td>558</td>\n",
       "    </tr>\n",
       "    <tr>\n",
       "      <th>1</th>\n",
       "      <td>683</td>\n",
       "      <td>630</td>\n",
       "    </tr>\n",
       "  </tbody>\n",
       "</table>\n",
       "</div>"
      ],
      "text/plain": [
       "col_0                       False  True \n",
       "default.payment.next.month              \n",
       "0                            4129    558\n",
       "1                             683    630"
      ]
     },
     "execution_count": 255,
     "metadata": {},
     "output_type": "execute_result"
    }
   ],
   "source": [
    "pd.crosstab(y_test, y_pred > .55)"
   ]
  },
  {
   "cell_type": "code",
   "execution_count": null,
   "metadata": {},
   "outputs": [],
   "source": []
  },
  {
   "cell_type": "code",
   "execution_count": null,
   "metadata": {},
   "outputs": [],
   "source": []
  }
 ],
 "metadata": {
  "kernelspec": {
   "display_name": "Python 3",
   "language": "python",
   "name": "python3"
  },
  "language_info": {
   "codemirror_mode": {
    "name": "ipython",
    "version": 3
   },
   "file_extension": ".py",
   "mimetype": "text/x-python",
   "name": "python",
   "nbconvert_exporter": "python",
   "pygments_lexer": "ipython3",
   "version": "3.6.4"
  }
 },
 "nbformat": 4,
 "nbformat_minor": 2
}
